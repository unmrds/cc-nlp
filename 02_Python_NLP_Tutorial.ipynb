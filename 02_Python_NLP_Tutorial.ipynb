{
 "cells": [
  {
   "cell_type": "markdown",
   "metadata": {},
   "source": [
    "# A Text-Mining Comparison of Emily Dickinson and Walt Whitman\n",
    "-----------------------------------------------------------------------------------------------------------\n",
    "\n",
    "Informed by examples from https://www.nltk.org/book/:\n",
    "\n",
    "Bird, Steven, Ewan Klein, and Edward Loper (2015). _Natural Language Processing with Python_. Accessed 2018-10-16 from https://www.nltk.org/book/.\n",
    "\n",
    "In this tutorial, we will explore the NLTK _corpus_, _text_, and (to a lesser extent) _tokenize_ and _tag_ modules to analyze differences between two American poets, Emily Dickinson and Walt Whitman. In particular, we will\n",
    "\n",
    "* compare aspects of form including stanza and sentence (not line!) length\n",
    "* explore vocabulary usage and context\n",
    "\n",
    "### About Emily Dickinson and Walt Whitman\n",
    "\n",
    "But first a quick word about our choice of poets. For the purposes of comparison, Dickinson and Whitman are ideal because they were contemporaries who over time have had a tremendous impact on American poetry. Their works are idiosyncratic - stylicstically, the works of both poets are nothing like those of the other (or of anyone else, for that matter).\n",
    "\n",
    "By way of example:\n",
    "\n",
    "[Whitman's _Song of Myself_](https://www.poetryfoundation.org/poems/45477/song-of-myself-1892-version)\n",
    "\n",
    "\n",
    "[Dickinson's _Because I could not stop for Death_](https://www.poetryfoundation.org/poems/47652/because-i-could-not-stop-for-death-479)\n",
    "\n",
    "So there is a strong visual and aesthetic difference between the two poets. But what if we wanted our home assistant to find and read out loud poetry that is more similar to Dickinson's and less similar to Whitman's? What would _similar_ mean to a machine? Can these stylistic differences be quantified? NLP gives us some insight into this question.\n",
    "\n",
    "But first, we will familiarize ourselves with some of the basics of NLTK and the modules referenced above."
   ]
  },
  {
   "cell_type": "code",
   "execution_count": 2,
   "metadata": {},
   "outputs": [],
   "source": [
    "import nltk\n",
    "import numpy as np\n",
    "import matplotlib\n",
    "import requests\n",
    "\n",
    "# Import modules\n",
    "\n",
    "from nltk.tokenize.stanford import StanfordTokenizer\n",
    "from nltk.corpus import gutenberg, stopwords\n",
    "from nltk.corpus.reader.plaintext import PlaintextCorpusReader\n",
    "from nltk.probability import *\n",
    "from nltk.text import *\n",
    "from nltk import word_tokenize, draw"
   ]
  },
  {
   "cell_type": "code",
   "execution_count": 3,
   "metadata": {},
   "outputs": [],
   "source": [
    "# NLTK data need to be downloaded separately. Uncomment and run the next line the first time this notebook is run\n",
    "# on a new system.\n",
    "\n",
    "# nltk.download() # use id 'all' to download all, or 'gutenberg' and 'stopwords' to download the corpora used in this notebook"
   ]
  },
  {
   "cell_type": "markdown",
   "metadata": {},
   "source": [
    "### The _Gutenberg_ Corpus\n",
    "\n",
    "This corpus consists of a selection of public domain texts from Project Gutenberg ([https://www.gutenberg.org/](https://www.gutenberg.org/)). It is an example of a plaintext corpus.\n",
    "\n",
    "There are a variety of corpora, each of which demonstrate different NLTK methods and capabilities. More info is available from\n",
    "\n",
    "* NLTK documentation ([https://www.nltk.org/api/nltk.corpus.html](https://www.nltk.org/api/nltk.corpus.html))\n",
    "* NLTK Corpora ([http://www.nltk.org/nltk_data/](http://www.nltk.org/nltk_data/))\n",
    "\n",
    "While not as complex as other corpora and modules, the Gutenberg corpus and plaintext corpus reader provide everything we need to drill down into the structure and vocabulary contexts of particular authors and literary works."
   ]
  },
  {
   "cell_type": "code",
   "execution_count": 4,
   "metadata": {},
   "outputs": [
    {
     "name": "stdout",
     "output_type": "stream",
     "text": [
      "['austen-emma.txt', 'austen-persuasion.txt', 'austen-sense.txt', 'bible-kjv.txt', 'blake-poems.txt', 'bryant-stories.txt', 'burgess-busterbrown.txt', 'carroll-alice.txt', 'chesterton-ball.txt', 'chesterton-brown.txt', 'chesterton-thursday.txt', 'edgeworth-parents.txt', 'melville-moby_dick.txt', 'milton-paradise.txt', 'shakespeare-caesar.txt', 'shakespeare-hamlet.txt', 'shakespeare-macbeth.txt', 'whitman-leaves.txt']\n"
     ]
    }
   ],
   "source": [
    "# These are the texts in Gutenberg\n",
    "\n",
    "print(gutenberg.fileids())"
   ]
  },
  {
   "cell_type": "markdown",
   "metadata": {},
   "source": [
    "Available methods give us access to the text at different levels of granularity. The corresponding data types and structures are as given in the documentation:\n",
    "\n",
    "* characters (strings)\n",
    "* words (a list of strings)\n",
    "* sentences (a list of lists of strings)\n",
    "* paragraphs (a list of lists of lists of strings)\n",
    "\n",
    "Without being overly complex, these different levels of nesting allow us to quickly compare word, sentence, and paragraph lengths across texts. These are important aspects of particular texts and an author's style of writing."
   ]
  },
  {
   "cell_type": "code",
   "execution_count": 5,
   "metadata": {},
   "outputs": [
    {
     "name": "stdout",
     "output_type": "stream",
     "text": [
      "1242990\n"
     ]
    }
   ],
   "source": [
    "mdRaw = gutenberg.raw('melville-moby_dick.txt')\n",
    "print(len(mdRaw)) # this gives us the number of characters, including whitespace"
   ]
  },
  {
   "cell_type": "code",
   "execution_count": 6,
   "metadata": {},
   "outputs": [],
   "source": [
    "#mdRaw"
   ]
  },
  {
   "cell_type": "code",
   "execution_count": 7,
   "metadata": {},
   "outputs": [
    {
     "name": "stdout",
     "output_type": "stream",
     "text": [
      "260819\n"
     ]
    }
   ],
   "source": [
    "mdWords = gutenberg.words('melville-moby_dick.txt') # list of words and punctuation\n",
    "print(len(mdWords)) # this gives us a count of TOKENS - words, punctuation, etc."
   ]
  },
  {
   "cell_type": "code",
   "execution_count": 8,
   "metadata": {},
   "outputs": [
    {
     "data": {
      "text/plain": [
       "['[',\n",
       " 'Moby',\n",
       " 'Dick',\n",
       " 'by',\n",
       " 'Herman',\n",
       " 'Melville',\n",
       " '1851',\n",
       " ']',\n",
       " 'ETYMOLOGY',\n",
       " '.']"
      ]
     },
     "execution_count": 8,
     "metadata": {},
     "output_type": "execute_result"
    }
   ],
   "source": [
    "mdWords[0:10] # if we look at mdRaw, we see that the brackets around the title/author are in the raw text"
   ]
  },
  {
   "cell_type": "code",
   "execution_count": 9,
   "metadata": {},
   "outputs": [
    {
     "name": "stdout",
     "output_type": "stream",
     "text": [
      "10059\n"
     ]
    }
   ],
   "source": [
    "mdSents = gutenberg.sents('melville-moby_dick.txt')\n",
    "print(len(mdSents))"
   ]
  },
  {
   "cell_type": "code",
   "execution_count": 10,
   "metadata": {},
   "outputs": [
    {
     "data": {
      "text/plain": [
       "[['[', 'Moby', 'Dick', 'by', 'Herman', 'Melville', '1851', ']'], ['ETYMOLOGY', '.'], ...]"
      ]
     },
     "execution_count": 10,
     "metadata": {},
     "output_type": "execute_result"
    }
   ],
   "source": [
    "mdSents"
   ]
  },
  {
   "cell_type": "code",
   "execution_count": 11,
   "metadata": {},
   "outputs": [
    {
     "name": "stdout",
     "output_type": "stream",
     "text": [
      "2793\n"
     ]
    }
   ],
   "source": [
    "mdParas = gutenberg.paras('melville-moby_dick.txt')\n",
    "print(len(mdParas))"
   ]
  },
  {
   "cell_type": "code",
   "execution_count": 12,
   "metadata": {},
   "outputs": [
    {
     "data": {
      "text/plain": [
       "[[['[', 'Moby', 'Dick', 'by', 'Herman', 'Melville', '1851', ']']], [['ETYMOLOGY', '.']], ...]"
      ]
     },
     "execution_count": 12,
     "metadata": {},
     "output_type": "execute_result"
    }
   ],
   "source": [
    "mdParas"
   ]
  },
  {
   "cell_type": "markdown",
   "metadata": {},
   "source": [
    "We can calculate some useful averages accordingly.\n",
    "\n",
    "Using a function provided by the _NLTK Book_ [https://www.nltk.org/book/ch01.html](https://www.nltk.org/book/ch01.html), we can also calculate the _lexical diversity_, or the percentage of distinct words, in a text.\n"
   ]
  },
  {
   "cell_type": "code",
   "execution_count": 13,
   "metadata": {},
   "outputs": [],
   "source": [
    "# Calculate averages - use 'isalpha()' method to remove punctuation (note this also removes dates, money, and other \n",
    "# potentially interesting tokens...)\n",
    "\n",
    "# Word length in characters\n",
    "\n",
    "def avgWordLength(wordList):\n",
    "    totalWords = 0\n",
    "    totalChars = 0\n",
    "    for w in wordList:\n",
    "        if w.isalpha():\n",
    "            totalWords += 1\n",
    "            totalChars += len(w)\n",
    "    print(\"Total characters:\", totalChars)\n",
    "    print(\"Total words:\", totalWords)\n",
    "    print(\"Average word length in characters:\", totalChars / totalWords)\n",
    "    return\n",
    "\n",
    "# Sentence length in words\n",
    "\n",
    "def avgSentLength(sentList):\n",
    "    totalSents = len(sentList)\n",
    "    totalWords = 0\n",
    "    for s in sentList:\n",
    "        sentLength = 0\n",
    "        for w in s:\n",
    "            if w.isalpha():\n",
    "                sentLength += 1\n",
    "        totalWords += sentLength\n",
    "    print(\"Total words:\", totalWords)\n",
    "    print(\"Total sentences:\", totalSents)\n",
    "    print(\"Average sentence length in words:\", totalWords / totalSents)\n",
    "    return\n",
    "\n",
    "# Paragraph length in words and sentences\n",
    "\n",
    "def avgParaLength(paraList):\n",
    "    totalParas = len(paraList)\n",
    "    totalSents = 0\n",
    "    totalWords = 0\n",
    "    for p in paraList:\n",
    "        totalSents += len(p)\n",
    "        for s in p:\n",
    "            sentLength = 0\n",
    "            for w in s:\n",
    "                if w.isalpha():\n",
    "                    sentLength += 1\n",
    "            totalWords += sentLength\n",
    "    print(\"Total words:\", totalWords)\n",
    "    print(\"Total sentences:\", totalSents)\n",
    "    print(\"Total paragraphs:\", totalParas)\n",
    "    print(\"Average paragraph length in sentences:\", totalSents / totalParas)\n",
    "    print(\"Average paragraph length in words:\", totalWords / totalParas)\n",
    "    return"
   ]
  },
  {
   "cell_type": "code",
   "execution_count": 14,
   "metadata": {},
   "outputs": [
    {
     "name": "stdout",
     "output_type": "stream",
     "text": [
      "Total characters: 951935\n",
      "Total words: 218361\n",
      "Average word length in characters: 4.35945521407211\n"
     ]
    }
   ],
   "source": [
    "avgWordLength(mdWords)"
   ]
  },
  {
   "cell_type": "code",
   "execution_count": 15,
   "metadata": {},
   "outputs": [
    {
     "name": "stdout",
     "output_type": "stream",
     "text": [
      "Total words: 218361\n",
      "Total sentences: 10059\n",
      "Average sentence length in words: 21.708022666269013\n"
     ]
    }
   ],
   "source": [
    "avgSentLength(mdSents)"
   ]
  },
  {
   "cell_type": "code",
   "execution_count": 16,
   "metadata": {},
   "outputs": [
    {
     "name": "stdout",
     "output_type": "stream",
     "text": [
      "Total words: 218361\n",
      "Total sentences: 10059\n",
      "Total paragraphs: 2793\n",
      "Average paragraph length in sentences: 3.601503759398496\n",
      "Average paragraph length in words: 78.18152524167562\n"
     ]
    }
   ],
   "source": [
    "avgParaLength(mdParas)"
   ]
  },
  {
   "cell_type": "code",
   "execution_count": 17,
   "metadata": {},
   "outputs": [],
   "source": [
    "# Lexical diversity - from https://www.nltk.org/book/ch01.html\n",
    "\n",
    "# Note - creating a set of words in wordList removes duplicates\n",
    "\n",
    "def lexical_diversity(wordList):\n",
    "    return len(set(wordList))/len(wordList)\n",
    "\n",
    "\n",
    "# Some refinements\n",
    "\n",
    "# This first may be too greedy, as it ignores part of speech:\n",
    "#     \"Smith took his harpoon to the smith\" will be treated as one 'smith'\n",
    "#     \"Ford raced her horse across the ford\" will be treated as one 'ford'\n",
    "\n",
    "def lex_div_alpha_lc(wordList):\n",
    "    alpha_lc = []\n",
    "    for w in wordList:\n",
    "        if w.isalpha():\n",
    "            alpha_lc.append(w.lower())\n",
    "    return len(set(alpha_lc))/len(alpha_lc)\n",
    "\n",
    "# This second refinement includes part of speech\n",
    "# May not be greedy enough?\n",
    "\n",
    "def lex_div_alpha_pos(wordList):\n",
    "    alpha_pos = []\n",
    "    pos = nltk.pos_tag(wordList)\n",
    "    for w in pos:\n",
    "        if w[0].isalpha():\n",
    "            alpha_pos.append(w)\n",
    "    return len(set(alpha_pos))/len(alpha_pos)\n",
    "            "
   ]
  },
  {
   "cell_type": "code",
   "execution_count": 18,
   "metadata": {},
   "outputs": [
    {
     "data": {
      "text/plain": [
       "0.07406285585022564"
      ]
     },
     "execution_count": 18,
     "metadata": {},
     "output_type": "execute_result"
    }
   ],
   "source": [
    "lexical_diversity(mdWords)"
   ]
  },
  {
   "cell_type": "code",
   "execution_count": 19,
   "metadata": {},
   "outputs": [
    {
     "data": {
      "text/plain": [
       "0.07761459234936642"
      ]
     },
     "execution_count": 19,
     "metadata": {},
     "output_type": "execute_result"
    }
   ],
   "source": [
    "lex_div_alpha_lc(mdWords)"
   ]
  },
  {
   "cell_type": "code",
   "execution_count": 20,
   "metadata": {},
   "outputs": [
    {
     "data": {
      "text/plain": [
       "0.1150480168161897"
      ]
     },
     "execution_count": 20,
     "metadata": {},
     "output_type": "execute_result"
    }
   ],
   "source": [
    "lex_div_alpha_pos(mdWords) # this takes a moment"
   ]
  },
  {
   "cell_type": "markdown",
   "metadata": {},
   "source": [
    "### Try it!\n",
    "\n",
    "Using the functions and methods demonstrated above - \n",
    "\n",
    "1. Compare the lexical diversity of William Blake and John Milton\n",
    "2. Compare the average word, sentence, and paragraph lengths of works by Jane Austen and G.K. Chesterton\n",
    "\n",
    "Be sure to run all the code blocks above this one before attempting any comparisons!"
   ]
  },
  {
   "cell_type": "code",
   "execution_count": 21,
   "metadata": {},
   "outputs": [],
   "source": [
    "# Some helper functions\n",
    "\n",
    "def plainTextFeatures(text):\n",
    "    tWords = gutenberg.words(text)\n",
    "    tSents = gutenberg.sents(text)\n",
    "    tParas = gutenberg.paras(text)\n",
    "    return tWords, tSents, tParas\n",
    "\n",
    "t1 = 'blake-poems.txt' # replace as needed\n",
    "t2 = 'milton-paradise.txt' # replace as needed\n",
    "\n",
    "t1Words, t1Sents, t1Paras = plainTextFeatures(t1)\n",
    "t2Words, t2Sents, t2Paras = plainTextFeatures(t2)"
   ]
  },
  {
   "cell_type": "markdown",
   "metadata": {},
   "source": [
    "## Creating a Plaintext Corpus\n",
    "\n",
    "We can apply these methods and functions to our comparison of the poetry of Emily Dickinson and Walt Whitman. Since we don't already have any of Dickinson's poetry available to us in an existing corpus, we need to download some of her poetry and create a corpus with it.\n",
    "\n",
    "Since _Leave of Grass_ is already in the _gutenberg_ corpus, we might use that. However, since that copy of the text has probably been through more rigorous pre-processing than we intend to do here, we will level the playing field by also downloading a new copy of that text. All works in this example are from _Project Gutenberg_.\n",
    "\n",
    "**NOTE:** As noted above, line breaks and punctuation are aspects of poetic form and reflect deliberate choices made by poets. While we may in this example make some association between pararaphs and stanzas, we should not make any similar association between lines and sentences. "
   ]
  },
  {
   "cell_type": "code",
   "execution_count": 22,
   "metadata": {},
   "outputs": [],
   "source": [
    "# Use the following lines to download texts from Project Gutenberg\n",
    "# Note however that for this tutorial we have done some pre-processing\n",
    "\n",
    "r = requests.get('https://www.gutenberg.org/files/12242/12242.txt')\n",
    "emily = r.text\n",
    "with open('poetry/emily_dickinson_raw.txt', 'w', encoding='latin-1') as e:\n",
    "    e.write(emily)\n",
    "    e.close()\n",
    "    \n",
    "r = requests.get('https://www.gutenberg.org/files/1322/1322.txt')\n",
    "walt = r.text\n",
    "with open('poetry/walt_whitman_raw.txt', 'w', encoding='latin-1') as w:\n",
    "    w.write(walt)\n",
    "    w.close()"
   ]
  },
  {
   "cell_type": "markdown",
   "metadata": {},
   "source": [
    "Right now these are just text files in a directory. We can't use any of the plaintext corpus reader methods on them until we intialize a new corpus."
   ]
  },
  {
   "cell_type": "code",
   "execution_count": 23,
   "metadata": {},
   "outputs": [],
   "source": [
    "am_poets = PlaintextCorpusReader('poetry/', '.*')"
   ]
  },
  {
   "cell_type": "code",
   "execution_count": 24,
   "metadata": {},
   "outputs": [
    {
     "data": {
      "text/plain": [
       "['emily_dickinson_edit.txt',\n",
       " 'emily_dickinson_raw.txt',\n",
       " 'walt_whitman_edit.txt',\n",
       " 'walt_whitman_raw.txt']"
      ]
     },
     "execution_count": 24,
     "metadata": {},
     "output_type": "execute_result"
    }
   ],
   "source": [
    "am_poets.fileids()"
   ]
  },
  {
   "cell_type": "markdown",
   "metadata": {},
   "source": [
    "That's it! Now we can use any of the functions above to make some comparisons."
   ]
  },
  {
   "cell_type": "code",
   "execution_count": 25,
   "metadata": {},
   "outputs": [],
   "source": [
    "def poetsTextFeatures(text):\n",
    "    tWords = am_poets.words(text)\n",
    "    tSents = am_poets.sents(text)\n",
    "    tParas = am_poets.paras(text)\n",
    "    return tWords, tSents, tParas\n",
    "\n",
    "ed = 'emily_dickinson_edit.txt' # we can also use the raw downloaded files if we want\n",
    "ww = 'walt_whitman_edit.txt'\n",
    "\n",
    "edWords, edSents, edParas = poetsTextFeatures(ed)\n",
    "wwWords, wwSents, wwParas = poetsTextFeatures(ww)"
   ]
  },
  {
   "cell_type": "code",
   "execution_count": 26,
   "metadata": {},
   "outputs": [
    {
     "name": "stdout",
     "output_type": "stream",
     "text": [
      "Dickinson associated word, sentence, and paragraph counts: 37156 2487 1977\n",
      "Whitman associated word, sentence, and paragraph counts: 154453 4252 2479\n"
     ]
    }
   ],
   "source": [
    "# Note that our corpus is probably not balanced in terms of volume of work per poet.\n",
    "\n",
    "print(\"Dickinson associated word, sentence, and paragraph counts:\", len(edWords), len(edSents), len(edParas))\n",
    "print(\"Whitman associated word, sentence, and paragraph counts:\", len(wwWords), len(wwSents), len(wwParas))"
   ]
  },
  {
   "cell_type": "markdown",
   "metadata": {},
   "source": [
    "Comparing word length:"
   ]
  },
  {
   "cell_type": "code",
   "execution_count": 27,
   "metadata": {},
   "outputs": [
    {
     "name": "stdout",
     "output_type": "stream",
     "text": [
      "Dickinson:\n",
      "Total characters: 126844\n",
      "Total words: 30184\n",
      "Average word length in characters: 4.202358865624172\n"
     ]
    }
   ],
   "source": [
    "print('Dickinson:')\n",
    "avgWordLength(edWords)"
   ]
  },
  {
   "cell_type": "code",
   "execution_count": 28,
   "metadata": {},
   "outputs": [
    {
     "name": "stdout",
     "output_type": "stream",
     "text": [
      "Whitman:\n",
      "Total characters: 542371\n",
      "Total words: 126300\n",
      "Average word length in characters: 4.2943072050673\n"
     ]
    }
   ],
   "source": [
    "print('Whitman:')\n",
    "avgWordLength(wwWords)"
   ]
  },
  {
   "cell_type": "markdown",
   "metadata": {},
   "source": [
    "Compare sentence (not line!) length:"
   ]
  },
  {
   "cell_type": "code",
   "execution_count": 29,
   "metadata": {},
   "outputs": [
    {
     "name": "stdout",
     "output_type": "stream",
     "text": [
      "Dickinson:\n",
      "Total words: 30184\n",
      "Total sentences: 2487\n",
      "Average sentence length in words: 12.136710896662645\n"
     ]
    }
   ],
   "source": [
    "print('Dickinson:')\n",
    "avgSentLength(edSents)"
   ]
  },
  {
   "cell_type": "code",
   "execution_count": 30,
   "metadata": {},
   "outputs": [
    {
     "name": "stdout",
     "output_type": "stream",
     "text": [
      "Whitman:\n",
      "Total words: 126300\n",
      "Total sentences: 4252\n",
      "Average sentence length in words: 29.703668861712135\n"
     ]
    }
   ],
   "source": [
    "print('Whitman:')\n",
    "avgSentLength(wwSents)"
   ]
  },
  {
   "cell_type": "markdown",
   "metadata": {},
   "source": [
    "Compare paragraph (and maybe stanza) length:"
   ]
  },
  {
   "cell_type": "code",
   "execution_count": 31,
   "metadata": {},
   "outputs": [
    {
     "name": "stdout",
     "output_type": "stream",
     "text": [
      "Dickinson:\n",
      "Total words: 30184\n",
      "Total sentences: 2487\n",
      "Total paragraphs: 1977\n",
      "Average paragraph length in sentences: 1.2579666160849772\n",
      "Average paragraph length in words: 15.267577137076378\n"
     ]
    }
   ],
   "source": [
    "print('Dickinson:')\n",
    "avgParaLength(edParas)"
   ]
  },
  {
   "cell_type": "code",
   "execution_count": 32,
   "metadata": {},
   "outputs": [
    {
     "name": "stdout",
     "output_type": "stream",
     "text": [
      "Whitman:\n",
      "Total words: 126300\n",
      "Total sentences: 4252\n",
      "Total paragraphs: 2479\n",
      "Average paragraph length in sentences: 1.7152077450584913\n",
      "Average paragraph length in words: 50.947962888261394\n"
     ]
    }
   ],
   "source": [
    "print('Whitman:')\n",
    "avgParaLength(wwParas)"
   ]
  },
  {
   "cell_type": "markdown",
   "metadata": {},
   "source": [
    "Compare lexical diversity"
   ]
  },
  {
   "cell_type": "code",
   "execution_count": 33,
   "metadata": {},
   "outputs": [
    {
     "name": "stdout",
     "output_type": "stream",
     "text": [
      "Dickinson:\n",
      "NLTK book method: 0.17426525998492842\n",
      "Lowercase alpha method: 0.1840710310098065\n",
      "POS alpha method: 0.25503578054598464\n"
     ]
    }
   ],
   "source": [
    "print('Dickinson:')\n",
    "print(\"NLTK book method:\", lexical_diversity(edWords))\n",
    "print('Lowercase alpha method:', lex_div_alpha_lc(edWords))\n",
    "print('POS alpha method:', lex_div_alpha_pos(edWords))"
   ]
  },
  {
   "cell_type": "code",
   "execution_count": 34,
   "metadata": {},
   "outputs": [
    {
     "name": "stdout",
     "output_type": "stream",
     "text": [
      "Whitman:\n",
      "NLTK book method: 0.09273371187351492\n",
      "Lowercase alpha method: 0.09754552652414886\n",
      "POS alpha method: 0.147513855898654\n"
     ]
    }
   ],
   "source": [
    "print('Whitman:')\n",
    "print(\"NLTK book method:\", lexical_diversity(wwWords))\n",
    "print('Lowercase alpha method:', lex_div_alpha_lc(wwWords))\n",
    "print('POS alpha method:', lex_div_alpha_pos(wwWords))"
   ]
  },
  {
   "cell_type": "markdown",
   "metadata": {},
   "source": [
    "### Frequency Distributions and Plotting\n",
    "\n",
    "Before moving on to vocabulary and context, let's explore some NLTK methods for creating and plotting frequency distributions. These allow us to go beyond averages and drill down more deeply into the structure of our corpus."
   ]
  },
  {
   "cell_type": "code",
   "execution_count": 35,
   "metadata": {},
   "outputs": [],
   "source": [
    "# FreqDist methods are part of the NLTK probability module:\n",
    "# https://www.nltk.org/api/nltk.html#module-nltk.probability\n",
    "\n",
    "# Frequency distribution of sentence lengths\n",
    "\n",
    "ws_fdist = FreqDist(len(s) for s in wwSents)\n",
    "es_fdist = FreqDist(len(s) for s in edSents)\n",
    "\n",
    "# Frequency distribution of paragraph/stanza lengths (in sentences not words)\n",
    "\n",
    "wp_fdist = FreqDist(len(p) for p in wwParas)\n",
    "ep_fdist = FreqDist(len(p) for p in edParas)\n",
    "\n",
    "# Frequency distribution of paras/stanzas by number of words\n",
    "# 'wps' = words per stanza\n",
    "\n",
    "wpb = []\n",
    "for p in wwParas:\n",
    "    pwc = 0\n",
    "    for s in p:\n",
    "        pwc += len(s)\n",
    "    wpb.append(pwc)\n",
    "wwps_fdist = FreqDist(wpb)\n",
    "\n",
    "epb = []\n",
    "for p in edParas:\n",
    "    pwc = 0\n",
    "    for s in p:\n",
    "        pwc += len(s)\n",
    "    epb.append(pwc)\n",
    "ewps_fdist = FreqDist(epb)"
   ]
  },
  {
   "cell_type": "markdown",
   "metadata": {},
   "source": [
    "Comment and uncomment lines below to compare difference frequency distributions."
   ]
  },
  {
   "cell_type": "code",
   "execution_count": 36,
   "metadata": {},
   "outputs": [
    {
     "data": {
      "text/plain": [
       "[(1, 1800),\n",
       " (2, 338),\n",
       " (3, 140),\n",
       " (4, 78),\n",
       " (5, 41),\n",
       " (6, 26),\n",
       " (8, 10),\n",
       " (7, 10),\n",
       " (10, 10),\n",
       " (9, 6),\n",
       " (14, 4),\n",
       " (12, 3),\n",
       " (11, 3),\n",
       " (23, 2),\n",
       " (13, 2),\n",
       " (45, 1),\n",
       " (20, 1),\n",
       " (56, 1),\n",
       " (17, 1),\n",
       " (28, 1)]"
      ]
     },
     "execution_count": 36,
     "metadata": {},
     "output_type": "execute_result"
    }
   ],
   "source": [
    "# Print and plot the 20 most common occurrences \n",
    "\n",
    "# ws_fdist.most_common(20) # most common sentence lengths in words - note this includes punctuation!\n",
    "wp_fdist.most_common(20) # most common stanza lengths in sentences\n",
    "# wwps_fdist.most_common(20) # most common stanza lengths in words (including punctuation)"
   ]
  },
  {
   "cell_type": "code",
   "execution_count": 73,
   "metadata": {},
   "outputs": [
    {
     "data": {
      "image/png": "[encoded data removed]",
      "text/plain": [
       "<Figure size 432x288 with 1 Axes>"
      ]
     },
     "metadata": {},
     "output_type": "display_data"
    }
   ],
   "source": [
    "# ws_fdist.plot(20, cumulative=True)\n",
    "wp_fdist.plot(20, cumulative=True) # 2479 paras/stanzas\n",
    "# wwps_fdist.plot(20, cumulative=True)"
   ]
  },
  {
   "cell_type": "code",
   "execution_count": 38,
   "metadata": {},
   "outputs": [
    {
     "data": {
      "text/plain": [
       "[(1, 1648), (2, 219), (3, 67), (4, 26), (5, 9), (6, 6), (7, 1), (8, 1)]"
      ]
     },
     "execution_count": 38,
     "metadata": {},
     "output_type": "execute_result"
    }
   ],
   "source": [
    "# es_fdist.most_common(20) # most common sentence lengths in words - note this includes punctuation!\n",
    "ep_fdist.most_common(20) # most common stanza lengths in sentences\n",
    "# ewps_fdist.most_common(20) # most common stanza lengths in words (including punctuation)"
   ]
  },
  {
   "cell_type": "code",
   "execution_count": 39,
   "metadata": {},
   "outputs": [
    {
     "data": {
      "image/png": "[encoded data removed]",
      "text/plain": [
       "<Figure size 432x288 with 1 Axes>"
      ]
     },
     "metadata": {},
     "output_type": "display_data"
    }
   ],
   "source": [
    "# es_fdist.plot(20, cumulative=True)\n",
    "ep_fdist.plot(20, cumulative=True) # 1977 paras/stanzas\n",
    "# ewps_fdist.plot(20, cumulative=True)"
   ]
  },
  {
   "cell_type": "markdown",
   "metadata": {},
   "source": [
    "How - if at all - do these results align with our impressions of each poet's work?\n",
    "\n",
    "### Exploring Context with the NLTK Text Module\n",
    "\n",
    "By now we have given our home assistant something to work with if we were to ask for poetry similar to Emily Dickinson's but not similar to Walt Whitman's. \n",
    "\n",
    "But what if in our case _similar_ has less to do with structure and more to do with tone or imagery? That is, what if we want poetry that is similar in terms of tone, imagery, and context? This is of course a much more complicated query and involves a lot more in truth than a basic analysis of vocabulary use. However, a basic analysis of vocabulary use gives us a pretty good start towards addressing this question as well as characterizing the complexities surrounding it.\n",
    "\n",
    "To do this, we need to move beyond plaintext corpus reader methods and initialize our texts as instances of the NLTK Text module. This module provides methods for analyzing context through collocations, concordances, and similarities across word occurrences."
   ]
  },
  {
   "cell_type": "code",
   "execution_count": 40,
   "metadata": {},
   "outputs": [],
   "source": [
    "# Initialize as Text and ContextIndex objects\n",
    "# https://www.nltk.org/api/nltk.html#module-nltk.text\n",
    "\n",
    "waltText = Text(am_poets.words(ww))\n",
    "emilyText = Text(am_poets.words(ed))\n",
    "\n",
    "# ContextIndex object provides a token list that we will need later\n",
    "\n",
    "waltContextIndex = ContextIndex(am_poets.words(ww))\n",
    "emilyContextIndex = ContextIndex(am_poets.words(ed))"
   ]
  },
  {
   "cell_type": "markdown",
   "metadata": {},
   "source": [
    "As we start to analyze vocabulary and context, one immediate problem we have is how to identify interesting vocabulary.\n",
    "Do we look for long words or phrases? Do we sort by part of speech?\n",
    "\n",
    "For this tutorial, we're going to work a little backwards and start by demonstrating some of the methods for exploring context. This is kind of a cheat but not really, because\n",
    "\n",
    "* \"Interesting\" is subjective\n",
    "* Text module methods by themselves are useful for surfacing interesting vocabulary use\n",
    "\n",
    "Collocations provide an immediate example. Collocations are expressions of multiple words which commonly co-occur."
   ]
  },
  {
   "cell_type": "code",
   "execution_count": 41,
   "metadata": {},
   "outputs": [
    {
     "name": "stdout",
     "output_type": "stream",
     "text": [
      "Walt Whitman collocations:\n",
      "\n",
      "young men; open air; Walt Whitman; young man; New World; every one;\n",
      "every thing; whole earth; Thou knowest; thousand years; Old Age; old\n",
      "man; shapes arise; little child; old age; centuries hence; thousand\n",
      "miles; became part; every day; comes back\n",
      "\n",
      "\n",
      "men women; young men; man woman; open air; day night; North South;\n",
      "Walt Whitman; Time Space; young man; New World; every one; male\n",
      "female; live oak; every thing; Good bye; thousand years; whole earth;\n",
      "East West; South North; Thou knowest\n",
      "\n",
      "Emily Dickinson collocations:\n",
      "\n",
      "Emily Dickinson; human nature; LOOMIS TODD; MABEL LOOMIS; little boat;\n",
      "Wild nights; little figure; little maid; EMILY DICKINSON; FORBIDDEN\n",
      "FRUIT; dainty reminder; personal origin; never saw; hour ago; writing\n",
      "delinquencies; Series Edited; regions wild; settled regions; Next\n",
      "time; ages steal\n",
      "\n",
      "\n",
      "Emily Dickinson; human nature; little maid; LOOMIS TODD; MABEL LOOMIS;\n",
      "MABEL TODD; Wild nights; little boat; TIME ETERNITY; little figure;\n",
      "hour ago; never saw; EMILY DICKINSON; FORBIDDEN FRUIT; HOPE Hope;\n",
      "POEMS EMILY; dainty reminder; personal origin; III NATURE; writing\n",
      "delinquencies\n"
     ]
    }
   ],
   "source": [
    "print('Walt Whitman collocations:\\n') # use the 'window_size' argument to expand the context\n",
    "waltText.collocations()\n",
    "print('\\n')\n",
    "waltText.collocations(window_size=3) # pairs of words that commonly occur in three-word samples\n",
    "\n",
    "print('\\nEmily Dickinson collocations:\\n')\n",
    "emilyText.collocations()\n",
    "print('\\n')\n",
    "emilyText.collocations(window_size=3)\n",
    "\n",
    "# Increase the window_size to see how the collocations change!"
   ]
  },
  {
   "cell_type": "markdown",
   "metadata": {},
   "source": [
    "Concordances allows us to see how specific words are used in context. Based on the collocations, a word that might be interesting to look at is _little_."
   ]
  },
  {
   "cell_type": "code",
   "execution_count": 42,
   "metadata": {},
   "outputs": [
    {
     "name": "stdout",
     "output_type": "stream",
     "text": [
      "Displaying 25 of 25 matches:\n",
      "my book ! spread your white sails my little bark athwart the imperious waves , C\n",
      "Why even I myself I often think know little or nothing of my real life , Only a \n",
      "y of the States , Resist much , obey little , Once unquestioning obedience , onc\n",
      "n the fields , And brown ants in the little wells beneath them , And mossy scabs\n",
      " , and cannot be shaken away . 8 The little one sleeps in its cradle , I lift th\n",
      " wet , it ran from their long hair , Little streams pass ' d all over their bodi\n",
      "ks . To behold the day - break ! The little light fades the immense and diaphano\n",
      " prevent me . I anchor my ship for a little while only , My messengers continual\n",
      "content , for I hear the voice of my little captain , We have not struck , he co\n",
      "e tops alone second the fire of this little battery , especially the main - top \n",
      "t we are sinking . Serene stands the little captain , He is not hurried , his vo\n",
      "n stunn ' d . Stand back ! Give me a little time beyond my cuff ' d head , slumb\n",
      "Behold , I do not give lectures or a little charity , When I give I give myself \n",
      "eal estate and personal estate . The little plentiful manikins skipping around i\n",
      "ed and was put by his side , Nor the little child that peep ' d in at the door ,\n",
      "can commune with me , But roughs and little children better than they . The youn\n",
      "am at the mother ' s breast with the little child , Swim with the swimmers , wre\n",
      "erse forever ; Be not impatient -- a little space -- know you I salute the air ,\n",
      "se of you when all was still ringing little bells last night under my ear . Faci\n",
      "ng the pond - side , now wading in a little , fearing not the wet , Now by the p\n",
      "eaves upon it and twined around it a little moss , And brought it away , and I h\n",
      " , ( For I believe lately I think of little else than of them ,) Yet it remains \n",
      "lds and woods , and above every keel little or large that dents the water , With\n",
      ", happy in being together , speaking little , perhaps not a word . A Leaf for Ha\n",
      "r remain in the same room with you , Little you know the subtle electric fire th\n"
     ]
    }
   ],
   "source": [
    "waltText.concordance('little')"
   ]
  },
  {
   "cell_type": "code",
   "execution_count": 43,
   "metadata": {},
   "outputs": [
    {
     "name": "stdout",
     "output_type": "stream",
     "text": [
      "Displaying 25 of 25 matches:\n",
      " excuse from pain ; And then , those little anodynes That deaden suffering ; And\n",
      "d saints to windows run , To see the little tippler Leaning against the sun ! XX\n",
      "ut since Some industry must be , The little toil of love , I thought , Was large\n",
      "XXIII . UNRETURNING . ' T was such a little , little boat That toddled down the \n",
      "NRETURNING . ' T was such a little , little boat That toddled down the bay ! ' T\n",
      "or ever guessed the stately sails My little craft was lost ! XXIV . Whether my b\n",
      " . IX . Have you got a brook in your little heart , Where bashful flowers blow ,\n",
      "at any brook is there ; And yet your little draught of life Is daily drunken the\n",
      "runken there . Then look out for the little brook in March , When the rivers ove\n",
      "ws parching lie , Beware , lest this little brook of life Some burning noon go d\n",
      " dry ! X . TRANSPLANTED . As if some little Arctic flower , Upon the polar hem ,\n",
      " foreign tongue ! I say , as if this little flower To Eden wandered in -- What t\n",
      "the robin In every human soul . Bold little beauty , Bedecked with thee , Nature\n",
      "of tolling the bell for church , Our little sexton sings . God preaches , -- a n\n",
      "land ? IX . THE GRASS . The grass so little has to do , -- A sphere of simple gr\n",
      "ream the days away , -- The grass so little has to do , I wish I were the hay ! \n",
      "o do , I wish I were the hay ! X . A little road not made of man , Enabled of th\n",
      "Before the world is green Her sturdy little countenance Against the wind is seen\n",
      " . There seemed a purple stile Which little yellow boys and girls Were climbing \n",
      "rchyard rang ; And then adjusted his little notes , And bowed and sang again . D\n",
      ", My fingers were awake ; Yet why so little sound myself Unto my seeming make ? \n",
      "sheets of note - paper , and tied in little fascicules , each of six or eight sh\n",
      ", haply , any say to me , \" Unto the little , unto me ,\" When I at last awake . \n",
      "st be the storm That could abash the little bird That kept so many warm . I ' ve\n",
      "ies ; Approached , the amber flits a little , -- And that ' s the skies ! XX . A\n"
     ]
    }
   ],
   "source": [
    "emilyText.concordance('little')"
   ]
  },
  {
   "cell_type": "code",
   "execution_count": 44,
   "metadata": {},
   "outputs": [
    {
     "name": "stdout",
     "output_type": "stream",
     "text": [
      "long life soul the first perfect certain great rest dead right throat\n",
      "days house heart arm child leaves grass for\n"
     ]
    }
   ],
   "source": [
    "# The similar() method allows us to discover words that are used most frequently in the same context\n",
    "\n",
    "waltText.similar('little')"
   ]
  },
  {
   "cell_type": "code",
   "execution_count": 45,
   "metadata": {},
   "outputs": [
    {
     "name": "stdout",
     "output_type": "stream",
     "text": [
      "book year child crumb the all purple day dying distant bliss star mist\n",
      "soul should what breath that first different\n"
     ]
    }
   ],
   "source": [
    "emilyText.similar('little')"
   ]
  },
  {
   "cell_type": "code",
   "execution_count": 46,
   "metadata": {},
   "outputs": [
    {
     "name": "stderr",
     "output_type": "stream",
     "text": [
      "/usr/local/lib/python3.6/dist-packages/nltk/draw/__init__.py:14: UserWarning: nltk.draw package not loaded (please install Tkinter library).\n",
      "  warnings.warn(\"nltk.draw package not loaded \"\n"
     ]
    },
    {
     "data": {
      "image/png": "[encoded data removed]",
      "text/plain": [
       "<Figure size 432x288 with 1 Axes>"
      ]
     },
     "metadata": {},
     "output_type": "display_data"
    }
   ],
   "source": [
    "# Finally, the dispersion_plot() method provides a plot of word occurrences.\n",
    "# These plots shed some light on what counts as 'similar' context.\n",
    "\n",
    "waltText.dispersion_plot(['little', 'soul'])"
   ]
  },
  {
   "cell_type": "code",
   "execution_count": 47,
   "metadata": {},
   "outputs": [
    {
     "data": {
      "image/png": "[encoded data removed]",
      "text/plain": [
       "<Figure size 432x288 with 1 Axes>"
      ]
     },
     "metadata": {},
     "output_type": "display_data"
    }
   ],
   "source": [
    "emilyText.dispersion_plot(['little', 'soul'])"
   ]
  },
  {
   "cell_type": "markdown",
   "metadata": {},
   "source": [
    "## Contexts of the Self in Dickinson and Whitman\n",
    "\n",
    "Let's use these methods to explore contexts of self-references within the works of our poets. Along with their stylistic innovations, both poets have been represented - maybe not accurately - in popular media as having particular personalities. We've all probably heard of the 'Belle of Amherst' and barbaric yawps. Allowing that popular conceptions of these poets' personalities may be fictions, their supposed intro- and extrovertedness are things we can interrogate using the Text module.\n",
    "\n",
    "Dispersion plots show some interesting contrasts in the poets' use of personal pronouns. Keeping in mind that our samples are not the same size and that we have almost all of Dickinson's poetry but not all of Whitman's:"
   ]
  },
  {
   "cell_type": "code",
   "execution_count": 48,
   "metadata": {},
   "outputs": [
    {
     "data": {
      "image/png": "[encoded data removed]",
      "text/plain": [
       "<Figure size 432x288 with 1 Axes>"
      ]
     },
     "metadata": {},
     "output_type": "display_data"
    }
   ],
   "source": [
    "waltText.dispersion_plot(['I', 'me', 'my', 'mine', 'myself'])"
   ]
  },
  {
   "cell_type": "code",
   "execution_count": 49,
   "metadata": {},
   "outputs": [
    {
     "data": {
      "image/png": "[encoded data removed]",
      "text/plain": [
       "<Figure size 432x288 with 1 Axes>"
      ]
     },
     "metadata": {},
     "output_type": "display_data"
    }
   ],
   "source": [
    "emilyText.dispersion_plot(['I', 'me', 'my', 'mine', 'myself'])"
   ]
  },
  {
   "cell_type": "code",
   "execution_count": 50,
   "metadata": {},
   "outputs": [
    {
     "name": "stdout",
     "output_type": "stream",
     "text": [
      "Displaying 25 of 25 matches:\n",
      "rite , ( for we are one ,) That should I after return , Or , long , long hence \n",
      "ous waves ,) Ever with pleas ' d smile I may keep on , Ever and ever yet the ve\n",
      " yet the verses owning -- as , first , I here and now Signing for Soul and Body\n",
      "et to them my name , Walt Whitman BOOK I . INSCRIPTIONS One ' s - Self I Sing O\n",
      "n BOOK I . INSCRIPTIONS One ' s - Self I Sing One ' s - self I sing , a simple \n",
      "S One ' s - Self I Sing One ' s - self I sing , a simple separate person , Yet \n",
      " Masse . Of physiology from top to toe I sing , Not physiognomy alone nor brain\n",
      "r brain alone is worthy for the Muse , I say the Form complete is worthier far \n",
      "far , The Female equally with the Male I sing . Of Life immense in passion , pu\n",
      "under the laws divine , The Modern Man I sing . As I Ponder ' d in Silence As I\n",
      "ws divine , The Modern Man I sing . As I Ponder ' d in Silence As I ponder ' d \n",
      "I sing . As I Ponder ' d in Silence As I ponder ' d in silence , Returning upon\n",
      " of perfect soldiers . Be it so , then I answer ' d , I too haughty Shade also \n",
      "diers . Be it so , then I answer ' d , I too haughty Shade also sing war , and \n",
      "e Body and for the eternal Soul , Lo , I too am come , chanting the chant of ba\n",
      "come , chanting the chant of battles , I above all promote brave soldiers . In \n",
      " , By sailors young and old haply will I , a reminiscence of the land , be read\n",
      "e bark cleaving the ether , purpos ' d I know not whither , yet ever full of fa\n",
      "ed my love , ( dear mariners , for you I fold it here in every leaf ;) Speed on\n",
      "and all their ships . To Foreign Lands I heard that you ask ' d for something t\n",
      "a , her athletic Democracy , Therefore I send you my poems that you behold in t\n",
      "cs , aggregates , rulers and priests , I , habitan of the Alleghanies , treatin\n",
      "nality , outlining what is yet to be , I project the history of the future . To\n",
      "range sad war , great war for thee , ( I think all war through time was really \n",
      "the war are one , Merged in its spirit I and mine , as the contest hinged on th\n"
     ]
    }
   ],
   "source": [
    "waltText.concordance('I')"
   ]
  },
  {
   "cell_type": "code",
   "execution_count": 51,
   "metadata": {},
   "outputs": [
    {
     "name": "stdout",
     "output_type": "stream",
     "text": [
      "Displaying 25 of 25 matches:\n",
      " I . LIFE . I . SUCCESS . [ Published in \n",
      " I . SUCCESS . [ Published in \" A Masque \n",
      " so much joy ! ' T is so much joy ! If I should fail , what poverty ! And yet ,\n",
      " , what poverty ! And yet , as poor as I Have ventured all upon a throw ; Have \n",
      " breath but breath ! And if , indeed , I fail , At least to know the worst is s\n",
      "eat , No drearier can prevail ! And if I gain , -- oh , gun at sea , Oh , bells\n",
      "n , And only the waves reply . VI . If I can stop one heart from breaking , I s\n",
      "f I can stop one heart from breaking , I shall not live in vain ; If I can ease\n",
      "eaking , I shall not live in vain ; If I can ease one life the aching , Or cool\n",
      "e fainting robin Unto his nest again , I shall not live in vain . VII . ALMOST \n",
      "ain . VII . ALMOST ! Within my reach ! I could have touched ! I might have chan\n",
      "thin my reach ! I could have touched ! I might have chanced that way ! Soft sau\n",
      " VIII . A wounded deer leaps highest , I ' ve heard the hunter tell ; ' T is bu\n",
      "dress his century wore ; A privilege , I think , His venerable hand to take , A\n",
      "ous , And handled with a chain . XII . I asked no other thing , No other was de\n",
      "no other thing , No other was denied . I offered Being for it ; The mighty merc\n",
      " an emperor is kneeling Upon her mat . I ' ve known her from an ample nation Ch\n",
      " There are , that resting , rise . Can I expound the skies ? How still the ridd\n",
      " riddle lies ! XV . THE LONELY HOUSE . I know some lonely houses off the road A\n",
      " aloud is very brave , But gallanter , I know , Who charge within the bosom , T\n",
      "to perceive New periods of pain . XX . I taste a liquor never brewed , From tan\n",
      " such an alcohol ! Inebriate of air am I , And debauchee of dew , Reeling , thr\n",
      "hen butterflies renounce their drams , I shall but drink the more ! Till seraph\n",
      "erty A loosened spirit brings ! XXII . I had no time to hate , because The grav\n",
      " hinder me , And life was not so ample I Could finish enmity . Nor had I time t\n"
     ]
    }
   ],
   "source": [
    "emilyText.concordance('I')"
   ]
  },
  {
   "cell_type": "code",
   "execution_count": 52,
   "metadata": {},
   "outputs": [
    {
     "name": "stdout",
     "output_type": "stream",
     "text": [
      "you they we it and not to all that what women here he or in now me of\n",
      "ever as\n"
     ]
    }
   ],
   "source": [
    "waltText.similar('I')"
   ]
  },
  {
   "cell_type": "code",
   "execution_count": 53,
   "metadata": {},
   "outputs": [
    {
     "name": "stdout",
     "output_type": "stream",
     "text": [
      "you they we he there and to not if it then she birds in one all just\n",
      "such t know\n"
     ]
    }
   ],
   "source": [
    "emilyText.similar('I')"
   ]
  },
  {
   "cell_type": "markdown",
   "metadata": {},
   "source": [
    "## I What?\n",
    "\n",
    "From the above results, one thing that may be interesting is to find out what kinds of words follow the poets' use of *I*. As a final part of our analysis, we will create two more set od frequency distributions and plots.\n",
    "\n",
    "* Words that follow the word \"I\"\n",
    "* Parts of speech of words that follow the word \"I\""
   ]
  },
  {
   "cell_type": "code",
   "execution_count": 54,
   "metadata": {},
   "outputs": [],
   "source": [
    "# The ContextIndex objects provide access to tokens which can be tagged using the part of speech tagger.\n",
    "\n",
    "walt_pos = nltk.pos_tag(waltContextIndex.tokens())\n",
    "emily_pos = nltk.pos_tag(emilyContextIndex.tokens())"
   ]
  },
  {
   "cell_type": "code",
   "execution_count": 55,
   "metadata": {},
   "outputs": [
    {
     "data": {
      "text/plain": [
       "[('whose', 'WP$'),\n",
       " ('forbidden', 'JJ'),\n",
       " ('ear', 'VBP'),\n",
       " ('The', 'DT'),\n",
       " ('distant', 'JJ'),\n",
       " ('strains', 'NNS'),\n",
       " ('of', 'IN'),\n",
       " ('triumph', 'NN'),\n",
       " ('Break', 'NNP'),\n",
       " (',', ',')]"
      ]
     },
     "execution_count": 55,
     "metadata": {},
     "output_type": "execute_result"
    }
   ],
   "source": [
    "# These are long lists - here's an example of some tagged tokens\n",
    "\n",
    "emily_pos[100:110]"
   ]
  },
  {
   "cell_type": "code",
   "execution_count": 56,
   "metadata": {},
   "outputs": [],
   "source": [
    "# Create a function to retrieve every token than follows the token \"I\"\n",
    "# in the list of tokens that have been tagged with their parts of speech\n",
    "\n",
    "def next_word(taggedList):\n",
    "    i_index = []\n",
    "    next_words = []\n",
    "    idx = 0\n",
    "    for t in taggedList:\n",
    "        if t[0] == 'I':\n",
    "            if t[1] == 'PRP':\n",
    "                i_index.append(idx)\n",
    "        idx += 1\n",
    "    for i in i_index:\n",
    "        next_words.append(taggedList[i+1])\n",
    "    return next_words\n",
    "\n"
   ]
  },
  {
   "cell_type": "code",
   "execution_count": 57,
   "metadata": {},
   "outputs": [
    {
     "name": "stdout",
     "output_type": "stream",
     "text": [
      "[('.', '.'), ('.', '.'), ('should', 'MD'), ('Have', 'VBP'), ('fail', 'VBP'), ('gain', 'VBP'), ('can', 'MD'), ('shall', 'MD'), ('can', 'MD'), ('shall', 'MD')]\n"
     ]
    }
   ],
   "source": [
    "# Get lists of POS tagged words which follow \"I\"\n",
    "\n",
    "walt_I_what = next_word(walt_pos)\n",
    "emily_I_what = next_word(emily_pos)\n",
    "print(emily_I_what[:10])"
   ]
  },
  {
   "cell_type": "code",
   "execution_count": 58,
   "metadata": {},
   "outputs": [],
   "source": [
    "# Create frequency distributions\n",
    "\n",
    "walt_I_posFD = FreqDist(w[1] for w in walt_I_what if w[0].isalpha()) # POS frequency only\n",
    "walt_I_wposFD = FreqDist(w for w in walt_I_what if w[0].isalpha()) # word and POS\n",
    "\n",
    "emily_I_posFD = FreqDist(w[1] for w in emily_I_what if w[0].isalpha()) # POS frequency only\n",
    "emily_I_wposFD = FreqDist(w for w in emily_I_what if w[0].isalpha()) # word and POS"
   ]
  },
  {
   "cell_type": "code",
   "execution_count": 59,
   "metadata": {},
   "outputs": [
    {
     "data": {
      "text/plain": [
       "[('VBP', 2065),\n",
       " ('MD', 246),\n",
       " ('VBD', 237),\n",
       " ('RB', 102),\n",
       " ('VBG', 42),\n",
       " ('VB', 36),\n",
       " ('IN', 33),\n",
       " ('CC', 20),\n",
       " ('PRP', 16),\n",
       " ('NNP', 11),\n",
       " ('DT', 10),\n",
       " ('NN', 8),\n",
       " ('TO', 8),\n",
       " ('VBN', 7),\n",
       " ('JJ', 5),\n",
       " ('PRP$', 4),\n",
       " ('WP', 2),\n",
       " ('WRB', 1),\n",
       " ('WDT', 1),\n",
       " ('CD', 1)]"
      ]
     },
     "execution_count": 59,
     "metadata": {},
     "output_type": "execute_result"
    }
   ],
   "source": [
    "walt_I_posFD.most_common(20)"
   ]
  },
  {
   "cell_type": "code",
   "execution_count": 60,
   "metadata": {},
   "outputs": [
    {
     "data": {
      "text/plain": [
       "[('VBD', 193),\n",
       " ('VBP', 192),\n",
       " ('MD', 86),\n",
       " ('RB', 25),\n",
       " ('VB', 7),\n",
       " ('IN', 6),\n",
       " ('CC', 5),\n",
       " ('NN', 4),\n",
       " ('DT', 4),\n",
       " ('JJ', 3),\n",
       " ('VBG', 2),\n",
       " ('PRP$', 2),\n",
       " ('NNP', 1),\n",
       " ('WRB', 1),\n",
       " ('NNS', 1),\n",
       " ('RBR', 1),\n",
       " ('PRP', 1)]"
      ]
     },
     "execution_count": 60,
     "metadata": {},
     "output_type": "execute_result"
    }
   ],
   "source": [
    "emily_I_posFD.most_common(20)"
   ]
  },
  {
   "cell_type": "code",
   "execution_count": 61,
   "metadata": {},
   "outputs": [
    {
     "data": {
      "image/png": "[encoded data removed]",
      "text/plain": [
       "<Figure size 432x288 with 1 Axes>"
      ]
     },
     "metadata": {},
     "output_type": "display_data"
    }
   ],
   "source": [
    "walt_I_posFD.plot(20, cumulative=True)"
   ]
  },
  {
   "cell_type": "code",
   "execution_count": 62,
   "metadata": {},
   "outputs": [
    {
     "data": {
      "image/png": "[encoded data removed]",
      "text/plain": [
       "<Figure size 432x288 with 1 Axes>"
      ]
     },
     "metadata": {},
     "output_type": "display_data"
    }
   ],
   "source": [
    "emily_I_posFD.plot(20, cumulative=True)"
   ]
  },
  {
   "cell_type": "code",
   "execution_count": 63,
   "metadata": {},
   "outputs": [
    {
     "data": {
      "text/plain": [
       "[(('see', 'VBP'), 291),\n",
       " (('am', 'VBP'), 190),\n",
       " (('have', 'VBP'), 114),\n",
       " (('will', 'MD'), 113),\n",
       " (('hear', 'VBP'), 100),\n",
       " (('know', 'VBP'), 82),\n",
       " (('do', 'VBP'), 74),\n",
       " (('love', 'VBP'), 53),\n",
       " (('saw', 'VBD'), 50),\n",
       " (('think', 'VBP'), 37),\n",
       " (('too', 'RB'), 36),\n",
       " (('was', 'VBD'), 35),\n",
       " (('say', 'VBP'), 31),\n",
       " (('shall', 'MD'), 25),\n",
       " (('go', 'VBP'), 25),\n",
       " (('sing', 'VBP'), 24),\n",
       " (('believe', 'VBP'), 24),\n",
       " (('pass', 'VBP'), 24),\n",
       " (('give', 'VBP'), 24),\n",
       " (('swear', 'VBP'), 24)]"
      ]
     },
     "execution_count": 63,
     "metadata": {},
     "output_type": "execute_result"
    }
   ],
   "source": [
    "walt_I_wposFD.most_common(20)"
   ]
  },
  {
   "cell_type": "code",
   "execution_count": 64,
   "metadata": {},
   "outputs": [
    {
     "data": {
      "text/plain": [
       "[(('could', 'MD'), 25),\n",
       " (('had', 'VBD'), 22),\n",
       " (('should', 'MD'), 18),\n",
       " (('have', 'VBP'), 18),\n",
       " (('know', 'VBP'), 12),\n",
       " (('am', 'VBP'), 12),\n",
       " (('shall', 'MD'), 11),\n",
       " (('never', 'RB'), 11),\n",
       " (('thought', 'VBD'), 10),\n",
       " (('knew', 'VBD'), 9),\n",
       " (('heard', 'VBD'), 9),\n",
       " (('was', 'VBD'), 8),\n",
       " (('think', 'VBP'), 7),\n",
       " (('will', 'MD'), 7),\n",
       " (('would', 'MD'), 7),\n",
       " (('may', 'MD'), 6),\n",
       " (('said', 'VBD'), 6),\n",
       " (('see', 'VBP'), 6),\n",
       " (('wonder', 'VBP'), 6),\n",
       " (('felt', 'VBD'), 6)]"
      ]
     },
     "execution_count": 64,
     "metadata": {},
     "output_type": "execute_result"
    }
   ],
   "source": [
    "emily_I_wposFD.most_common(20)"
   ]
  },
  {
   "cell_type": "code",
   "execution_count": 65,
   "metadata": {},
   "outputs": [
    {
     "data": {
      "image/png": "[encoded data removed]",
      "text/plain": [
       "<Figure size 432x288 with 1 Axes>"
      ]
     },
     "metadata": {},
     "output_type": "display_data"
    }
   ],
   "source": [
    "walt_I_wposFD.plot(20, cumulative=True)"
   ]
  },
  {
   "cell_type": "code",
   "execution_count": 66,
   "metadata": {},
   "outputs": [
    {
     "data": {
      "image/png": "[encoded data removed]",
      "text/plain": [
       "<Figure size 432x288 with 1 Axes>"
      ]
     },
     "metadata": {},
     "output_type": "display_data"
    }
   ],
   "source": [
    "emily_I_wposFD.plot(20, cumulative=True)"
   ]
  },
  {
   "cell_type": "markdown",
   "metadata": {
    "collapsed": true
   },
   "source": [
    "## Extra: Finding Interesting Words\n",
    "\n",
    "So we cheated here and used our knowledge of Emily Dickinson and Walt Whitman to pre-select some interesting words. There are ways to snoop out interesting words in cases when we don't have a cheater handy. Often, this involves removing stop words and exploring the frequencies of word lengths, parts of speech, etc.\n",
    "\n",
    "We already have numerous examples of frequency distributions and part of speech tagging, so as a last exercise we will create two sets of tokens for both of our poets:\n",
    "\n",
    "* All tokens minus stopwords\n",
    "* Unique tokens minus stopwords\n",
    "\n",
    "*Stopwords* are words which are commonly occurring but which usually don't convery much information - *a*, *and*, *the*, etc."
   ]
  },
  {
   "cell_type": "code",
   "execution_count": 67,
   "metadata": {},
   "outputs": [
    {
     "name": "stdout",
     "output_type": "stream",
     "text": [
      "['arabic', 'azerbaijani', 'danish', 'dutch', 'english', 'finnish', 'french', 'german', 'greek', 'hungarian', 'indonesian', 'italian', 'kazakh', 'nepali', 'norwegian', 'portuguese', 'romanian', 'russian', 'spanish', 'swedish', 'turkish']\n"
     ]
    }
   ],
   "source": [
    "# We loaded the stopword corpus at the beginning of the tutorial\n",
    "\n",
    "print(stopwords.fileids())"
   ]
  },
  {
   "cell_type": "code",
   "execution_count": 68,
   "metadata": {},
   "outputs": [],
   "source": [
    "engSw = stopwords.words('english')"
   ]
  },
  {
   "cell_type": "code",
   "execution_count": 69,
   "metadata": {},
   "outputs": [
    {
     "data": {
      "text/plain": [
       "['i', 'me', 'my', 'myself', 'we', 'our', 'ours', 'ourselves', 'you', \"you're\"]"
      ]
     },
     "execution_count": 69,
     "metadata": {},
     "output_type": "execute_result"
    }
   ],
   "source": [
    "engSw[:10]"
   ]
  },
  {
   "cell_type": "code",
   "execution_count": 70,
   "metadata": {},
   "outputs": [],
   "source": [
    "# Use the lists of words from the plaintext module\n",
    "\n",
    "waltNoSw = [w for w in wwWords if w.lower() not in engSw and w.isalpha()] # alpha tokens only\n",
    "emilyNoSw = [w for w in edWords if w.lower() not in engSw and w.isalpha()]"
   ]
  },
  {
   "cell_type": "code",
   "execution_count": 71,
   "metadata": {},
   "outputs": [
    {
     "name": "stdout",
     "output_type": "stream",
     "text": [
      "Whitman tokens including stopwords: 154453\n",
      "Whitman tokens excluding stopwords: 65089\n",
      "\n",
      "\n",
      "Dickinson tokens including stopwords: 37156\n",
      "Dickinson tokens excluding stopwords: 15790\n"
     ]
    }
   ],
   "source": [
    "# Compare length of token lists with and without stopwords\n",
    "\n",
    "print(\"Whitman tokens including stopwords:\", len(wwWords))\n",
    "print(\"Whitman tokens excluding stopwords:\", len(waltNoSw))\n",
    "print('\\n')\n",
    "print(\"Dickinson tokens including stopwords:\", len(edWords))\n",
    "print(\"Dickinson tokens excluding stopwords:\", len(emilyNoSw))"
   ]
  },
  {
   "cell_type": "code",
   "execution_count": 72,
   "metadata": {},
   "outputs": [
    {
     "name": "stdout",
     "output_type": "stream",
     "text": [
      "Whitman unique tokens excluding stopwords: 13941\n",
      "Whitman lexical diversity excluding stopwords: 0.21418365622455407\n",
      "\n",
      "\n",
      "Dickinson unique tokens excluding stopwords: 6169\n",
      "Dickinson lexical diversity excluding stopwords: 0.39069031032298923\n"
     ]
    }
   ],
   "source": [
    "wwUnique = set(waltNoSw)\n",
    "edUnique = set(emilyNoSw)\n",
    "\n",
    "print(\"Whitman unique tokens excluding stopwords:\", len(wwUnique))\n",
    "print(\"Whitman lexical diversity excluding stopwords:\", len(wwUnique) / len(waltNoSw))\n",
    "print('\\n')\n",
    "print(\"Dickinson unique tokens excluding stopwords:\", len(edUnique))\n",
    "print(\"Dickinson lexical diversity excluding stopwords:\", len(edUnique) / len(emilyNoSw))"
   ]
  },
  {
   "cell_type": "markdown",
   "metadata": {},
   "source": [
    "## Try It!\n",
    "\n",
    "1. Compare frequency distributions of token lists with and without stopwords.\n",
    "2. Create frequency distributions of word lengths using a set of unique tokens."
   ]
  },
  {
   "cell_type": "code",
   "execution_count": null,
   "metadata": {},
   "outputs": [],
   "source": []
  }
 ],
 "metadata": {
  "kernelspec": {
   "display_name": "Python 3",
   "language": "python",
   "name": "python3"
  },
  "language_info": {
   "codemirror_mode": {
    "name": "ipython",
    "version": 3
   },
   "file_extension": ".py",
   "mimetype": "text/x-python",
   "name": "python",
   "nbconvert_exporter": "python",
   "pygments_lexer": "ipython3",
   "version": "3.6.6"
  }
 },
 "nbformat": 4,
 "nbformat_minor": 2
}
